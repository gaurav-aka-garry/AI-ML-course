{
  "nbformat": 4,
  "nbformat_minor": 0,
  "metadata": {
    "colab": {
      "name": "daily-problema.ipynb",
      "provenance": [],
      "collapsed_sections": [],
      "include_colab_link": true
    },
    "kernelspec": {
      "name": "python3",
      "display_name": "Python 3"
    },
    "language_info": {
      "name": "python"
    }
  },
  "cells": [
    {
      "cell_type": "markdown",
      "metadata": {
        "id": "view-in-github",
        "colab_type": "text"
      },
      "source": [
        "<a href=\"https://colab.research.google.com/github/gaurav-aka-garry/AI-ML-course/blob/main/daily_problema.ipynb\" target=\"_parent\"><img src=\"https://colab.research.google.com/assets/colab-badge.svg\" alt=\"Open In Colab\"/></a>"
      ]
    },
    {
      "cell_type": "markdown",
      "metadata": {
        "id": "h2czdT7ne1UZ"
      },
      "source": [
        "# Practice Problem"
      ]
    },
    {
      "cell_type": "markdown",
      "metadata": {
        "id": "P8ML6IIbdOxl"
      },
      "source": [
        "## Day-1 (10 May,2021)\n",
        "1. Write a function that inputs a number and prints the multiplication table of that number\n",
        "2. Write a program to print twin primes less than 1000. If two consecutive odd numbers are both prime then they are known as twin primes. [twin prime](https://en.wikipedia.org/wiki/Twin_prime)"
      ]
    },
    {
      "cell_type": "code",
      "metadata": {
        "id": "1fGzrzhye0E7",
        "colab": {
          "base_uri": "https://localhost:8080/"
        },
        "outputId": "e9bff1d3-8337-4e4d-fbc5-93de03e46caf"
      },
      "source": [
        "#function multTable\n",
        "def function_for_table(num) :\n",
        "    n=1\n",
        "    while n<11 :\n",
        "        product=n*num\n",
        "        print(num ,'x', n,'=', product)\n",
        "        n += 1\n",
        "num = int(input(\"Enter the number for which you want the multiplication table: \"))\n",
        "print(\"Table of \",num, \"is as follows\")\n",
        "function_for_table(num)\n"
      ],
      "execution_count": null,
      "outputs": [
        {
          "output_type": "stream",
          "text": [
            "Enter the number for which you want the multiplication table: 9\n",
            "Table of  9 is as follows\n",
            "9 x 1 = 9\n",
            "9 x 2 = 18\n",
            "9 x 3 = 27\n",
            "9 x 4 = 36\n",
            "9 x 5 = 45\n",
            "9 x 6 = 54\n",
            "9 x 7 = 63\n",
            "9 x 8 = 72\n",
            "9 x 9 = 81\n",
            "9 x 10 = 90\n"
          ],
          "name": "stdout"
        }
      ]
    },
    {
      "cell_type": "code",
      "metadata": {
        "id": "NWcw_Uuae8kh",
        "colab": {
          "base_uri": "https://localhost:8080/"
        },
        "outputId": "792379e0-ba54-49b0-ca36-16f4436889dd"
      },
      "source": [
        "#write program for twin prime problem\n",
        "def check_for_prime(number):\n",
        "        isdivisible=False;\n",
        "        i=2;\n",
        "        while i<number :\n",
        "            if number%i==0:\n",
        "                isdivisible=True\n",
        "            #else : \n",
        "               # isdivisible=False\n",
        "            i+=1;\n",
        "            \n",
        "        if isdivisible==False :\n",
        "            return(number);\n",
        "        #else :\n",
        "          #return(0);\n",
        "num=0\n",
        "search1=1;\n",
        "search2=0;\n",
        "while search1<=997 :\n",
        "    search2=search1+1\n",
        "    if check_for_prime(search1) and check_for_prime(search2):\n",
        "      print(check_for_prime(search1),check_for_prime(search2))\n",
        "    search1+=2;"
      ],
      "execution_count": null,
      "outputs": [
        {
          "output_type": "stream",
          "text": [
            "1 2\n"
          ],
          "name": "stdout"
        }
      ]
    },
    {
      "cell_type": "markdown",
      "metadata": {
        "id": "F_q04xQXZ0r_"
      },
      "source": [
        "**Alternate Solution**"
      ]
    },
    {
      "cell_type": "code",
      "metadata": {
        "id": "b4pmhyprg3xp"
      },
      "source": [
        "def isPrime(a):\n",
        "  '''\n",
        "  this function check for prime number and return true\n",
        "\n",
        "  '''\n",
        "  for i in range(2,int(a**0.5)+1):\n",
        "    if a%i==0:\n",
        "      return False\n",
        "  return True\n",
        "\n",
        "\n",
        "\n",
        "def TwinPrime(x):\n",
        "  '''\n",
        "  this function give twin prime numbers bellow entred number\n",
        "  '''\n",
        "  temp=0\n",
        "  for i in range(3,x,2):\n",
        "    if isPrime(i) and isPrime(i+2):\n",
        "      print(\"({},{})\".format(i,i+2))\n",
        "      temp+=1\n",
        "  print(\"no of twin prime is {}\".format(temp))\n",
        "\n",
        "  "
      ],
      "execution_count": null,
      "outputs": []
    },
    {
      "cell_type": "code",
      "metadata": {
        "colab": {
          "base_uri": "https://localhost:8080/"
        },
        "id": "YG9i-3ej5ImD",
        "outputId": "9c1869d1-f63e-4998-87dc-5635c6cabdbb"
      },
      "source": [
        "print(isPrime.__doc__)"
      ],
      "execution_count": null,
      "outputs": [
        {
          "output_type": "stream",
          "text": [
            "\n",
            "  this function check for prime number and return true\n",
            "\n",
            "  \n"
          ],
          "name": "stdout"
        }
      ]
    },
    {
      "cell_type": "code",
      "metadata": {
        "colab": {
          "base_uri": "https://localhost:8080/"
        },
        "id": "UqF0Uaba5IeU",
        "outputId": "ba2d4df9-a6b7-4bd5-fe7e-fca43751701d"
      },
      "source": [
        "print(TwinPrime.__doc__)"
      ],
      "execution_count": null,
      "outputs": [
        {
          "output_type": "stream",
          "text": [
            "\n",
            "  this function give twin prime numbers bellow entred number\n",
            "  \n"
          ],
          "name": "stdout"
        }
      ]
    },
    {
      "cell_type": "code",
      "metadata": {
        "colab": {
          "base_uri": "https://localhost:8080/"
        },
        "id": "pyytAobwscLl",
        "outputId": "8e2baa08-f092-45f2-a25e-6fb2d1e559ef"
      },
      "source": [
        "TwinPrime(1000)"
      ],
      "execution_count": null,
      "outputs": [
        {
          "output_type": "stream",
          "text": [
            "(3,5)\n",
            "(5,7)\n",
            "(11,13)\n",
            "(17,19)\n",
            "(29,31)\n",
            "(41,43)\n",
            "(59,61)\n",
            "(71,73)\n",
            "(101,103)\n",
            "(107,109)\n",
            "(137,139)\n",
            "(149,151)\n",
            "(179,181)\n",
            "(191,193)\n",
            "(197,199)\n",
            "(227,229)\n",
            "(239,241)\n",
            "(269,271)\n",
            "(281,283)\n",
            "(311,313)\n",
            "(347,349)\n",
            "(419,421)\n",
            "(431,433)\n",
            "(461,463)\n",
            "(521,523)\n",
            "(569,571)\n",
            "(599,601)\n",
            "(617,619)\n",
            "(641,643)\n",
            "(659,661)\n",
            "(809,811)\n",
            "(821,823)\n",
            "(827,829)\n",
            "(857,859)\n",
            "(881,883)\n",
            "no of twin prime is 35\n"
          ],
          "name": "stdout"
        }
      ]
    },
    {
      "cell_type": "code",
      "metadata": {
        "id": "SPsx8ASXarYh",
        "colab": {
          "base_uri": "https://localhost:8080/"
        },
        "outputId": "1d82d28d-ba3c-446c-cecb-b369552c6cab"
      },
      "source": [
        "for i in range(2,5+1):\n",
        "  print(i)"
      ],
      "execution_count": null,
      "outputs": [
        {
          "output_type": "stream",
          "text": [
            "2\n",
            "3\n",
            "4\n",
            "5\n"
          ],
          "name": "stdout"
        }
      ]
    },
    {
      "cell_type": "code",
      "metadata": {
        "id": "3VEwn88F6YnY"
      },
      "source": [
        "def listPrime(a):\n",
        "  \"\"\"\n",
        "  this function return list of prime number bellow enterd number\n",
        "  \"\"\"\n",
        "  lst=[]\n",
        "  for i in range(2,a+1):\n",
        "    for j in range(2, int(i**0.5)+1):\n",
        "      if i%j==0:\n",
        "        break\n",
        "    else:\n",
        "      lst.append(i)\n",
        "  return(lst)\n",
        "\n",
        "\n",
        "def twinPrime2(x):\n",
        "  \"\"\"\n",
        "  this function print twin prime from list of prime\n",
        "  \"\"\"\n",
        "  temp=0\n",
        "  prime=listPrime(x)\n",
        "  for i in range(len(prime)-1):\n",
        "    if prime[i+1]-prime[i]==2:\n",
        "      print(\"({},{})\".format(prime[i],prime[i+1]))\n",
        "      temp+=1\n",
        "  print(\"Number of twin prime bellow {}, is {}\".format(x,temp))\n",
        "\n"
      ],
      "execution_count": null,
      "outputs": []
    },
    {
      "cell_type": "code",
      "metadata": {
        "colab": {
          "base_uri": "https://localhost:8080/"
        },
        "id": "FMLLrU2kascT",
        "outputId": "6c7f7080-7e09-4017-a7cb-0d8784a11cac"
      },
      "source": [
        "print(isPrime.__doc__)"
      ],
      "execution_count": null,
      "outputs": [
        {
          "output_type": "stream",
          "text": [
            "\n",
            "  this function check for prime number and return true\n",
            "\n",
            "  \n"
          ],
          "name": "stdout"
        }
      ]
    },
    {
      "cell_type": "code",
      "metadata": {
        "colab": {
          "base_uri": "https://localhost:8080/"
        },
        "id": "U5eHgh3oascU",
        "outputId": "494305df-acd5-461c-e1c5-dc8b2221d9f6"
      },
      "source": [
        "print(TwinPrime.__doc__)"
      ],
      "execution_count": null,
      "outputs": [
        {
          "output_type": "stream",
          "text": [
            "\n",
            "  this function give twin prime numbers bellow entred number\n",
            "  \n"
          ],
          "name": "stdout"
        }
      ]
    },
    {
      "cell_type": "code",
      "metadata": {
        "colab": {
          "base_uri": "https://localhost:8080/"
        },
        "id": "WlpdYTHkascU",
        "outputId": "6d3c3d47-c60e-45b8-d24b-3f38283d03a4"
      },
      "source": [
        "TwinPrime(1000)"
      ],
      "execution_count": null,
      "outputs": [
        {
          "output_type": "stream",
          "text": [
            "(3,5)\n",
            "(5,7)\n",
            "(11,13)\n",
            "(17,19)\n",
            "(29,31)\n",
            "(41,43)\n",
            "(59,61)\n",
            "(71,73)\n",
            "(101,103)\n",
            "(107,109)\n",
            "(137,139)\n",
            "(149,151)\n",
            "(179,181)\n",
            "(191,193)\n",
            "(197,199)\n",
            "(227,229)\n",
            "(239,241)\n",
            "(269,271)\n",
            "(281,283)\n",
            "(311,313)\n",
            "(347,349)\n",
            "(419,421)\n",
            "(431,433)\n",
            "(461,463)\n",
            "(521,523)\n",
            "(569,571)\n",
            "(599,601)\n",
            "(617,619)\n",
            "(641,643)\n",
            "(659,661)\n",
            "(809,811)\n",
            "(821,823)\n",
            "(827,829)\n",
            "(857,859)\n",
            "(881,883)\n",
            "no of twin prime is 35\n"
          ],
          "name": "stdout"
        }
      ]
    },
    {
      "cell_type": "markdown",
      "metadata": {
        "id": "uCk8imkcePRq"
      },
      "source": [
        "## Day 2 (11 May, 2021)"
      ]
    },
    {
      "cell_type": "markdown",
      "metadata": {
        "id": "KL3o3HLeefzb"
      },
      "source": [
        "2. Write a program to find out the prime factors of a number. Example: prime factors of 56 -2, 2, 2, 7\n",
        "3. Write a program to implement these formulae of permutations and combinations.\n",
        "Number of permutations of n objects taken r at a time: p(n, r) = n! / (n-r)!. Number of combinations of n objects taken r at a time is: c(n, r) = n! / (r!*(n-r)!) = p(n,r) / r!"
      ]
    },
    {
      "cell_type": "code",
      "metadata": {
        "colab": {
          "base_uri": "https://localhost:8080/"
        },
        "id": "GjtxSvuRYDcc",
        "outputId": "3497088f-53e9-4240-feda-3a21f95d031a"
      },
      "source": [
        "# Write a program to find out the prime factors of a number.\n",
        "### Wrong Wrong Wrong Wrong  Code\n",
        "num=int(input(\"Enter the number for which you want the prime factors \"))\n",
        "list1=[1]\n",
        "n=1\n",
        "\n",
        "while n<num:     #hint:to return num, use while loop instead of for loop....#Thanks bhai...\n",
        "  reminder=num%n\n",
        "  if reminder==0:\n",
        "    \n",
        "    num=num/n\n",
        "    list1.append(num)\n",
        "  n+=1\n",
        "\n",
        "product1=1\n",
        "index=2\n",
        "while index<len(list1)-1:\n",
        "      product1*=list1[index]\n",
        "      index+=1\n",
        "if product1==1:\n",
        "    print(\"Factors are \"+str(list1[2:]))\n",
        "else:\n",
        " print(\"Factors are \"+str(list1[0])+\" X \"+str(list1[1]))\n",
        "  \n",
        "  \n",
        "\n",
        "\n"
      ],
      "execution_count": null,
      "outputs": [
        {
          "output_type": "stream",
          "text": [
            "Enter the number for which you want the prime factors 10\n",
            "Factors are [5.0]\n"
          ],
          "name": "stdout"
        }
      ]
    },
    {
      "cell_type": "code",
      "metadata": {
        "colab": {
          "base_uri": "https://localhost:8080/"
        },
        "id": "8p8fO7Wwdaff",
        "outputId": "fc5954a3-365d-48e6-9d44-7bcdc4b1160f"
      },
      "source": [
        "Number = int(input(\" Please Enter any Number: \"))\n",
        "\n",
        "for i in range(2, Number + 1):\n",
        "    if(Number % i == 0):\n",
        "        isprime = 1\n",
        "        for j in range(2, (i //2 + 1)):\n",
        "            if(i % j == 0):\n",
        "                isprime = 0\n",
        "                break\n",
        "            \n",
        "        if (isprime == 1):\n",
        "            print(\" %d is a Prime Factor of a Given Number %d\" %(i, Number))"
      ],
      "execution_count": 1,
      "outputs": [
        {
          "output_type": "stream",
          "text": [
            " Please Enter any Number: 24\n",
            " 2 is a Prime Factor of a Given Number 24\n",
            " 3 is a Prime Factor of a Given Number 24\n"
          ],
          "name": "stdout"
        }
      ]
    },
    {
      "cell_type": "code",
      "metadata": {
        "colab": {
          "base_uri": "https://localhost:8080/"
        },
        "id": "lmlshhhTeAgH",
        "outputId": "813a64f5-5c3d-4032-f1c7-7825b772db47"
      },
      "source": [
        "#Write a program to implement these formulae of permutations and combinations. Number of permutations of n objects taken r at a time: p(n, r) = n! / (n-r)!. Number of combinations of n objects taken r at a time is: c(n, r) = n! / (r!*(n-r)!) = p(n,r) / r!\n",
        "n=int(input(\"Enter the total number of elements available for permutation \"))\n",
        "r=int(input(\"Enter the number of elements taken at a time for permutation \"))\n",
        "def factorial(p):\n",
        "  product=1\n",
        "  m=1\n",
        "  for m in range(1,p+1):\n",
        "    product*=m\n",
        "    m+=1\n",
        "  return(product)\n",
        "\n",
        "permutation=int(factorial(n))/int(factorial(n-r))\n",
        "print(\"Permutation(n,r) is \"+str(int(permutation)))\n",
        "\n",
        "s=int(input(\"Enter the total number of elements available for combination \"))\n",
        "t=int(input(\"Enter the number of elements taken at a time for combination \"))\n",
        "combination=int(factorial(s))/int(factorial(t)*factorial(s-t))\n",
        "print(\"Combination(s,t) is \"+str(int(combination)))\n"
      ],
      "execution_count": null,
      "outputs": [
        {
          "output_type": "stream",
          "text": [
            "Enter the total number of elements available for permutation 5\n",
            "Enter the number of elements taken at a time for permutation 2\n",
            "Permutation(n,r) is 20\n",
            "Enter the total number of elements available for combination 5\n",
            "Enter the number of elements taken at a time for combination 2\n",
            "Combination(s,t) is 10\n"
          ],
          "name": "stdout"
        }
      ]
    },
    {
      "cell_type": "code",
      "metadata": {
        "id": "aLS-inKtf2Gi"
      },
      "source": [
        ""
      ],
      "execution_count": null,
      "outputs": []
    }
  ]
}